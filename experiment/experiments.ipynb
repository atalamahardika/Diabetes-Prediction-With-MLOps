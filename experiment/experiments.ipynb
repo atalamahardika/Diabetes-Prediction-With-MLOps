{
 "cells": [
  {
   "cell_type": "markdown",
   "metadata": {},
   "source": [
    "# Diabetes Prediction"
   ]
  },
  {
   "cell_type": "code",
   "execution_count": 1,
   "metadata": {},
   "outputs": [],
   "source": [
    "# Import Neccessary libraries\n",
    "import numpy as np\n",
    "import pandas as pd\n",
    "\n",
    "# Import Visualization libraries\n",
    "import seaborn as sns\n",
    "import matplotlib.pyplot as plt\n",
    "\n",
    "# Import for Model\n",
    "from sklearn.preprocessing import StandardScaler\n",
    "from sklearn.model_selection import train_test_split, GridSearchCV\n",
    "from sklearn.metrics import confusion_matrix, accuracy_score, recall_score, classification_report,f1_score, roc_curve, roc_auc_score, precision_score\n",
    "from sklearn.ensemble import RandomForestClassifier\n",
    "from sklearn.pipeline import Pipeline\n",
    "from sklearn.compose import ColumnTransformer\n",
    "from sklearn.impute import SimpleImputer\n",
    "\n",
    "#Import Sampler libraries\n",
    "from imblearn.combine import SMOTEENN\n",
    "from imblearn.over_sampling import RandomOverSampler\n",
    "\n",
    "import warnings\n",
    "warnings.simplefilter(action='ignore')\n",
    "plt.style.use(\"ggplot\")\n",
    "%matplotlib inline"
   ]
  },
  {
   "cell_type": "markdown",
   "metadata": {},
   "source": [
    "## Exploratory Data Analysis"
   ]
  },
  {
   "cell_type": "code",
   "execution_count": 2,
   "metadata": {},
   "outputs": [
    {
     "data": {
      "text/html": [
       "<div>\n",
       "<style scoped>\n",
       "    .dataframe tbody tr th:only-of-type {\n",
       "        vertical-align: middle;\n",
       "    }\n",
       "\n",
       "    .dataframe tbody tr th {\n",
       "        vertical-align: top;\n",
       "    }\n",
       "\n",
       "    .dataframe thead th {\n",
       "        text-align: right;\n",
       "    }\n",
       "</style>\n",
       "<table border=\"1\" class=\"dataframe\">\n",
       "  <thead>\n",
       "    <tr style=\"text-align: right;\">\n",
       "      <th></th>\n",
       "      <th>Pregnancies</th>\n",
       "      <th>Glucose</th>\n",
       "      <th>BloodPressure</th>\n",
       "      <th>SkinThickness</th>\n",
       "      <th>Insulin</th>\n",
       "      <th>BMI</th>\n",
       "      <th>DiabetesPedigreeFunction</th>\n",
       "      <th>Age</th>\n",
       "      <th>Outcome</th>\n",
       "    </tr>\n",
       "  </thead>\n",
       "  <tbody>\n",
       "    <tr>\n",
       "      <th>0</th>\n",
       "      <td>6</td>\n",
       "      <td>148</td>\n",
       "      <td>72</td>\n",
       "      <td>35</td>\n",
       "      <td>0</td>\n",
       "      <td>33.6</td>\n",
       "      <td>0.627</td>\n",
       "      <td>50</td>\n",
       "      <td>1</td>\n",
       "    </tr>\n",
       "    <tr>\n",
       "      <th>1</th>\n",
       "      <td>1</td>\n",
       "      <td>85</td>\n",
       "      <td>66</td>\n",
       "      <td>29</td>\n",
       "      <td>0</td>\n",
       "      <td>26.6</td>\n",
       "      <td>0.351</td>\n",
       "      <td>31</td>\n",
       "      <td>0</td>\n",
       "    </tr>\n",
       "    <tr>\n",
       "      <th>2</th>\n",
       "      <td>8</td>\n",
       "      <td>183</td>\n",
       "      <td>64</td>\n",
       "      <td>0</td>\n",
       "      <td>0</td>\n",
       "      <td>23.3</td>\n",
       "      <td>0.672</td>\n",
       "      <td>32</td>\n",
       "      <td>1</td>\n",
       "    </tr>\n",
       "    <tr>\n",
       "      <th>3</th>\n",
       "      <td>1</td>\n",
       "      <td>89</td>\n",
       "      <td>66</td>\n",
       "      <td>23</td>\n",
       "      <td>94</td>\n",
       "      <td>28.1</td>\n",
       "      <td>0.167</td>\n",
       "      <td>21</td>\n",
       "      <td>0</td>\n",
       "    </tr>\n",
       "    <tr>\n",
       "      <th>4</th>\n",
       "      <td>0</td>\n",
       "      <td>137</td>\n",
       "      <td>40</td>\n",
       "      <td>35</td>\n",
       "      <td>168</td>\n",
       "      <td>43.1</td>\n",
       "      <td>2.288</td>\n",
       "      <td>33</td>\n",
       "      <td>1</td>\n",
       "    </tr>\n",
       "  </tbody>\n",
       "</table>\n",
       "</div>"
      ],
      "text/plain": [
       "   Pregnancies  Glucose  BloodPressure  SkinThickness  Insulin   BMI  \\\n",
       "0            6      148             72             35        0  33.6   \n",
       "1            1       85             66             29        0  26.6   \n",
       "2            8      183             64              0        0  23.3   \n",
       "3            1       89             66             23       94  28.1   \n",
       "4            0      137             40             35      168  43.1   \n",
       "\n",
       "   DiabetesPedigreeFunction  Age  Outcome  \n",
       "0                     0.627   50        1  \n",
       "1                     0.351   31        0  \n",
       "2                     0.672   32        1  \n",
       "3                     0.167   21        0  \n",
       "4                     2.288   33        1  "
      ]
     },
     "execution_count": 2,
     "metadata": {},
     "output_type": "execute_result"
    }
   ],
   "source": [
    "df = pd.read_csv('https://raw.githubusercontent.com/atalamahardika/Diabetes-Dataset/refs/heads/main/diabetes.csv')\n",
    "df.head()"
   ]
  },
  {
   "cell_type": "code",
   "execution_count": 3,
   "metadata": {},
   "outputs": [
    {
     "name": "stdout",
     "output_type": "stream",
     "text": [
      "Baris dan kolom : (768, 9)\n"
     ]
    }
   ],
   "source": [
    "print(f'Baris dan kolom : {df.shape}')"
   ]
  },
  {
   "cell_type": "code",
   "execution_count": 4,
   "metadata": {},
   "outputs": [
    {
     "name": "stdout",
     "output_type": "stream",
     "text": [
      "<class 'pandas.core.frame.DataFrame'>\n",
      "RangeIndex: 768 entries, 0 to 767\n",
      "Data columns (total 9 columns):\n",
      " #   Column                    Non-Null Count  Dtype  \n",
      "---  ------                    --------------  -----  \n",
      " 0   Pregnancies               768 non-null    int64  \n",
      " 1   Glucose                   768 non-null    int64  \n",
      " 2   BloodPressure             768 non-null    int64  \n",
      " 3   SkinThickness             768 non-null    int64  \n",
      " 4   Insulin                   768 non-null    int64  \n",
      " 5   BMI                       768 non-null    float64\n",
      " 6   DiabetesPedigreeFunction  768 non-null    float64\n",
      " 7   Age                       768 non-null    int64  \n",
      " 8   Outcome                   768 non-null    int64  \n",
      "dtypes: float64(2), int64(7)\n",
      "memory usage: 54.1 KB\n"
     ]
    }
   ],
   "source": [
    "df.info()"
   ]
  },
  {
   "cell_type": "code",
   "execution_count": 5,
   "metadata": {},
   "outputs": [
    {
     "data": {
      "text/plain": [
       "Pregnancies                 0\n",
       "Glucose                     0\n",
       "BloodPressure               0\n",
       "SkinThickness               0\n",
       "Insulin                     0\n",
       "BMI                         0\n",
       "DiabetesPedigreeFunction    0\n",
       "Age                         0\n",
       "Outcome                     0\n",
       "dtype: int64"
      ]
     },
     "execution_count": 5,
     "metadata": {},
     "output_type": "execute_result"
    }
   ],
   "source": [
    "df.isna().sum()"
   ]
  },
  {
   "cell_type": "code",
   "execution_count": 6,
   "metadata": {},
   "outputs": [
    {
     "name": "stdout",
     "output_type": "stream",
     "text": [
      "Data duplikasi : 0\n"
     ]
    }
   ],
   "source": [
    "print(f'Data duplikasi : {df.duplicated().sum()}')"
   ]
  },
  {
   "cell_type": "code",
   "execution_count": 7,
   "metadata": {},
   "outputs": [
    {
     "data": {
      "text/html": [
       "<div>\n",
       "<style scoped>\n",
       "    .dataframe tbody tr th:only-of-type {\n",
       "        vertical-align: middle;\n",
       "    }\n",
       "\n",
       "    .dataframe tbody tr th {\n",
       "        vertical-align: top;\n",
       "    }\n",
       "\n",
       "    .dataframe thead th {\n",
       "        text-align: right;\n",
       "    }\n",
       "</style>\n",
       "<table border=\"1\" class=\"dataframe\">\n",
       "  <thead>\n",
       "    <tr style=\"text-align: right;\">\n",
       "      <th></th>\n",
       "      <th>Pregnancies</th>\n",
       "      <th>Glucose</th>\n",
       "      <th>BloodPressure</th>\n",
       "      <th>SkinThickness</th>\n",
       "      <th>Insulin</th>\n",
       "      <th>BMI</th>\n",
       "      <th>DiabetesPedigreeFunction</th>\n",
       "      <th>Age</th>\n",
       "      <th>Outcome</th>\n",
       "    </tr>\n",
       "  </thead>\n",
       "  <tbody>\n",
       "    <tr>\n",
       "      <th>count</th>\n",
       "      <td>768.00</td>\n",
       "      <td>768.00</td>\n",
       "      <td>768.00</td>\n",
       "      <td>768.00</td>\n",
       "      <td>768.00</td>\n",
       "      <td>768.00</td>\n",
       "      <td>768.00</td>\n",
       "      <td>768.00</td>\n",
       "      <td>768.00</td>\n",
       "    </tr>\n",
       "    <tr>\n",
       "      <th>mean</th>\n",
       "      <td>3.85</td>\n",
       "      <td>120.89</td>\n",
       "      <td>69.11</td>\n",
       "      <td>20.54</td>\n",
       "      <td>79.80</td>\n",
       "      <td>31.99</td>\n",
       "      <td>0.47</td>\n",
       "      <td>33.24</td>\n",
       "      <td>0.35</td>\n",
       "    </tr>\n",
       "    <tr>\n",
       "      <th>std</th>\n",
       "      <td>3.37</td>\n",
       "      <td>31.97</td>\n",
       "      <td>19.36</td>\n",
       "      <td>15.95</td>\n",
       "      <td>115.24</td>\n",
       "      <td>7.88</td>\n",
       "      <td>0.33</td>\n",
       "      <td>11.76</td>\n",
       "      <td>0.48</td>\n",
       "    </tr>\n",
       "    <tr>\n",
       "      <th>min</th>\n",
       "      <td>0.00</td>\n",
       "      <td>0.00</td>\n",
       "      <td>0.00</td>\n",
       "      <td>0.00</td>\n",
       "      <td>0.00</td>\n",
       "      <td>0.00</td>\n",
       "      <td>0.08</td>\n",
       "      <td>21.00</td>\n",
       "      <td>0.00</td>\n",
       "    </tr>\n",
       "    <tr>\n",
       "      <th>25%</th>\n",
       "      <td>1.00</td>\n",
       "      <td>99.00</td>\n",
       "      <td>62.00</td>\n",
       "      <td>0.00</td>\n",
       "      <td>0.00</td>\n",
       "      <td>27.30</td>\n",
       "      <td>0.24</td>\n",
       "      <td>24.00</td>\n",
       "      <td>0.00</td>\n",
       "    </tr>\n",
       "    <tr>\n",
       "      <th>50%</th>\n",
       "      <td>3.00</td>\n",
       "      <td>117.00</td>\n",
       "      <td>72.00</td>\n",
       "      <td>23.00</td>\n",
       "      <td>30.50</td>\n",
       "      <td>32.00</td>\n",
       "      <td>0.37</td>\n",
       "      <td>29.00</td>\n",
       "      <td>0.00</td>\n",
       "    </tr>\n",
       "    <tr>\n",
       "      <th>75%</th>\n",
       "      <td>6.00</td>\n",
       "      <td>140.25</td>\n",
       "      <td>80.00</td>\n",
       "      <td>32.00</td>\n",
       "      <td>127.25</td>\n",
       "      <td>36.60</td>\n",
       "      <td>0.63</td>\n",
       "      <td>41.00</td>\n",
       "      <td>1.00</td>\n",
       "    </tr>\n",
       "    <tr>\n",
       "      <th>max</th>\n",
       "      <td>17.00</td>\n",
       "      <td>199.00</td>\n",
       "      <td>122.00</td>\n",
       "      <td>99.00</td>\n",
       "      <td>846.00</td>\n",
       "      <td>67.10</td>\n",
       "      <td>2.42</td>\n",
       "      <td>81.00</td>\n",
       "      <td>1.00</td>\n",
       "    </tr>\n",
       "  </tbody>\n",
       "</table>\n",
       "</div>"
      ],
      "text/plain": [
       "       Pregnancies  Glucose  BloodPressure  SkinThickness  Insulin     BMI  \\\n",
       "count       768.00   768.00         768.00         768.00   768.00  768.00   \n",
       "mean          3.85   120.89          69.11          20.54    79.80   31.99   \n",
       "std           3.37    31.97          19.36          15.95   115.24    7.88   \n",
       "min           0.00     0.00           0.00           0.00     0.00    0.00   \n",
       "25%           1.00    99.00          62.00           0.00     0.00   27.30   \n",
       "50%           3.00   117.00          72.00          23.00    30.50   32.00   \n",
       "75%           6.00   140.25          80.00          32.00   127.25   36.60   \n",
       "max          17.00   199.00         122.00          99.00   846.00   67.10   \n",
       "\n",
       "       DiabetesPedigreeFunction     Age  Outcome  \n",
       "count                    768.00  768.00   768.00  \n",
       "mean                       0.47   33.24     0.35  \n",
       "std                        0.33   11.76     0.48  \n",
       "min                        0.08   21.00     0.00  \n",
       "25%                        0.24   24.00     0.00  \n",
       "50%                        0.37   29.00     0.00  \n",
       "75%                        0.63   41.00     1.00  \n",
       "max                        2.42   81.00     1.00  "
      ]
     },
     "execution_count": 7,
     "metadata": {},
     "output_type": "execute_result"
    }
   ],
   "source": [
    "df.describe().round(2)"
   ]
  },
  {
   "cell_type": "code",
   "execution_count": 8,
   "metadata": {},
   "outputs": [
    {
     "name": "stdout",
     "output_type": "stream",
     "text": [
      "Persentase\n"
     ]
    },
    {
     "data": {
      "text/plain": [
       "Outcome\n",
       "0    65.1\n",
       "1    34.9\n",
       "Name: count, dtype: float64"
      ]
     },
     "execution_count": 8,
     "metadata": {},
     "output_type": "execute_result"
    }
   ],
   "source": [
    "print(\"Persentase\")\n",
    "(df['Outcome'].value_counts()*100/len(df)).round(2)"
   ]
  },
  {
   "cell_type": "code",
   "execution_count": 9,
   "metadata": {},
   "outputs": [
    {
     "data": {
      "text/html": [
       "<div>\n",
       "<style scoped>\n",
       "    .dataframe tbody tr th:only-of-type {\n",
       "        vertical-align: middle;\n",
       "    }\n",
       "\n",
       "    .dataframe tbody tr th {\n",
       "        vertical-align: top;\n",
       "    }\n",
       "\n",
       "    .dataframe thead th {\n",
       "        text-align: right;\n",
       "    }\n",
       "</style>\n",
       "<table border=\"1\" class=\"dataframe\">\n",
       "  <thead>\n",
       "    <tr style=\"text-align: right;\">\n",
       "      <th></th>\n",
       "      <th>Pregnancies</th>\n",
       "      <th>Glucose</th>\n",
       "      <th>BloodPressure</th>\n",
       "      <th>SkinThickness</th>\n",
       "      <th>Insulin</th>\n",
       "      <th>BMI</th>\n",
       "      <th>DiabetesPedigreeFunction</th>\n",
       "      <th>Age</th>\n",
       "      <th>Outcome</th>\n",
       "    </tr>\n",
       "  </thead>\n",
       "  <tbody>\n",
       "    <tr>\n",
       "      <th>Pregnancies</th>\n",
       "      <td>1.00</td>\n",
       "      <td>0.13</td>\n",
       "      <td>0.14</td>\n",
       "      <td>-0.08</td>\n",
       "      <td>-0.07</td>\n",
       "      <td>0.02</td>\n",
       "      <td>-0.03</td>\n",
       "      <td>0.54</td>\n",
       "      <td>0.22</td>\n",
       "    </tr>\n",
       "    <tr>\n",
       "      <th>Glucose</th>\n",
       "      <td>0.13</td>\n",
       "      <td>1.00</td>\n",
       "      <td>0.15</td>\n",
       "      <td>0.06</td>\n",
       "      <td>0.33</td>\n",
       "      <td>0.22</td>\n",
       "      <td>0.14</td>\n",
       "      <td>0.26</td>\n",
       "      <td>0.47</td>\n",
       "    </tr>\n",
       "    <tr>\n",
       "      <th>BloodPressure</th>\n",
       "      <td>0.14</td>\n",
       "      <td>0.15</td>\n",
       "      <td>1.00</td>\n",
       "      <td>0.21</td>\n",
       "      <td>0.09</td>\n",
       "      <td>0.28</td>\n",
       "      <td>0.04</td>\n",
       "      <td>0.24</td>\n",
       "      <td>0.07</td>\n",
       "    </tr>\n",
       "    <tr>\n",
       "      <th>SkinThickness</th>\n",
       "      <td>-0.08</td>\n",
       "      <td>0.06</td>\n",
       "      <td>0.21</td>\n",
       "      <td>1.00</td>\n",
       "      <td>0.44</td>\n",
       "      <td>0.39</td>\n",
       "      <td>0.18</td>\n",
       "      <td>-0.11</td>\n",
       "      <td>0.07</td>\n",
       "    </tr>\n",
       "    <tr>\n",
       "      <th>Insulin</th>\n",
       "      <td>-0.07</td>\n",
       "      <td>0.33</td>\n",
       "      <td>0.09</td>\n",
       "      <td>0.44</td>\n",
       "      <td>1.00</td>\n",
       "      <td>0.20</td>\n",
       "      <td>0.19</td>\n",
       "      <td>-0.04</td>\n",
       "      <td>0.13</td>\n",
       "    </tr>\n",
       "    <tr>\n",
       "      <th>BMI</th>\n",
       "      <td>0.02</td>\n",
       "      <td>0.22</td>\n",
       "      <td>0.28</td>\n",
       "      <td>0.39</td>\n",
       "      <td>0.20</td>\n",
       "      <td>1.00</td>\n",
       "      <td>0.14</td>\n",
       "      <td>0.04</td>\n",
       "      <td>0.29</td>\n",
       "    </tr>\n",
       "    <tr>\n",
       "      <th>DiabetesPedigreeFunction</th>\n",
       "      <td>-0.03</td>\n",
       "      <td>0.14</td>\n",
       "      <td>0.04</td>\n",
       "      <td>0.18</td>\n",
       "      <td>0.19</td>\n",
       "      <td>0.14</td>\n",
       "      <td>1.00</td>\n",
       "      <td>0.03</td>\n",
       "      <td>0.17</td>\n",
       "    </tr>\n",
       "    <tr>\n",
       "      <th>Age</th>\n",
       "      <td>0.54</td>\n",
       "      <td>0.26</td>\n",
       "      <td>0.24</td>\n",
       "      <td>-0.11</td>\n",
       "      <td>-0.04</td>\n",
       "      <td>0.04</td>\n",
       "      <td>0.03</td>\n",
       "      <td>1.00</td>\n",
       "      <td>0.24</td>\n",
       "    </tr>\n",
       "    <tr>\n",
       "      <th>Outcome</th>\n",
       "      <td>0.22</td>\n",
       "      <td>0.47</td>\n",
       "      <td>0.07</td>\n",
       "      <td>0.07</td>\n",
       "      <td>0.13</td>\n",
       "      <td>0.29</td>\n",
       "      <td>0.17</td>\n",
       "      <td>0.24</td>\n",
       "      <td>1.00</td>\n",
       "    </tr>\n",
       "  </tbody>\n",
       "</table>\n",
       "</div>"
      ],
      "text/plain": [
       "                          Pregnancies  Glucose  BloodPressure  SkinThickness  \\\n",
       "Pregnancies                      1.00     0.13           0.14          -0.08   \n",
       "Glucose                          0.13     1.00           0.15           0.06   \n",
       "BloodPressure                    0.14     0.15           1.00           0.21   \n",
       "SkinThickness                   -0.08     0.06           0.21           1.00   \n",
       "Insulin                         -0.07     0.33           0.09           0.44   \n",
       "BMI                              0.02     0.22           0.28           0.39   \n",
       "DiabetesPedigreeFunction        -0.03     0.14           0.04           0.18   \n",
       "Age                              0.54     0.26           0.24          -0.11   \n",
       "Outcome                          0.22     0.47           0.07           0.07   \n",
       "\n",
       "                          Insulin   BMI  DiabetesPedigreeFunction   Age  \\\n",
       "Pregnancies                 -0.07  0.02                     -0.03  0.54   \n",
       "Glucose                      0.33  0.22                      0.14  0.26   \n",
       "BloodPressure                0.09  0.28                      0.04  0.24   \n",
       "SkinThickness                0.44  0.39                      0.18 -0.11   \n",
       "Insulin                      1.00  0.20                      0.19 -0.04   \n",
       "BMI                          0.20  1.00                      0.14  0.04   \n",
       "DiabetesPedigreeFunction     0.19  0.14                      1.00  0.03   \n",
       "Age                         -0.04  0.04                      0.03  1.00   \n",
       "Outcome                      0.13  0.29                      0.17  0.24   \n",
       "\n",
       "                          Outcome  \n",
       "Pregnancies                  0.22  \n",
       "Glucose                      0.47  \n",
       "BloodPressure                0.07  \n",
       "SkinThickness                0.07  \n",
       "Insulin                      0.13  \n",
       "BMI                          0.29  \n",
       "DiabetesPedigreeFunction     0.17  \n",
       "Age                          0.24  \n",
       "Outcome                      1.00  "
      ]
     },
     "execution_count": 9,
     "metadata": {},
     "output_type": "execute_result"
    }
   ],
   "source": [
    "df.corr().round(2)"
   ]
  },
  {
   "cell_type": "markdown",
   "metadata": {},
   "source": [
    "1. Korelasi dengan variabel target (Outcome):\n",
    "- Glucose: Memiliki korelasi tertinggi dengan Outcome (0.47), menunjukkan bahwa kadar glukosa merupakan prediktor yang kuat untuk diabetes.\n",
    "- BMI: Juga memiliki korelasi yang cukup tinggi dengan Outcome (0.29), menunjukkan bahwa Indeks Massa Tubuh juga merupakan faktor penting.\n",
    "- Age: Berkorelasi sebesar 0.24 dengan Outcome, mengindikasikan bahwa usia juga berperan dalam memprediksi diabetes.\n",
    "2. Korelasi antar fitur:\n",
    "- Insulin dan Glucose: Memiliki korelasi yang cukup tinggi (0.33), yang cukup logis karena keduanya berhubungan erat dalam metabolisme tubuh.\n",
    "- SkinThickness dan BMI: Juga berkorelasi cukup tinggi (0.39), menunjukkan hubungan antara ketebalan kulit dan Indeks Massa Tubuh.\n",
    "\n",
    "\n",
    "Berdasarkan analisis di atas, berikut beberapa fitur yang potensial untuk feature engineering:\n",
    "\n",
    "- Glucose: Karena memiliki korelasi tertinggi dengan Outcome, kita dapat mencoba berbagai transformasi pada fitur ini, seperti membuat fitur polinomial (misalnya, Glucose^2) atau menggabungkannya dengan fitur lain (misalnya, rasio Glucose/Insulin).\n",
    "- BMI: Dapat dikombinasikan dengan Age atau SkinThickness untuk membuat fitur baru yang lebih prediktif. Misalnya, kita dapat membuat fitur \"BMI terhadap usia\" atau \"rasio BMI terhadap ketebalan kulit\".\n",
    "- Insulin: Karena berkorelasi tinggi dengan Glucose, kita dapat membuat fitur gabungan yang memperhitungkan kedua variabel tersebut. Misalnya, kita dapat membuat fitur \"selisih Glucose dan Insulin\" atau \"rasio Glucose/Insulin\".\n",
    "- Age: Dapat dikelompokkan ke dalam kategori usia (misalnya, muda, dewasa, lansia) untuk melihat pola yang berbeda pada setiap kelompok usia."
   ]
  },
  {
   "cell_type": "code",
   "execution_count": 10,
   "metadata": {},
   "outputs": [
    {
     "data": {
      "image/png": "[encoded data removed]",
      "text/plain": [
       "<Figure size 1200x800 with 8 Axes>"
      ]
     },
     "metadata": {},
     "output_type": "display_data"
    }
   ],
   "source": [
    "# Plot distribution of each feature\n",
    "plt.figure(figsize=(12, 8))\n",
    "for i, col in enumerate(df.columns[:-1]):  # Ignoring 'Outcome' column\n",
    "    plt.subplot(3, 3, i+1)\n",
    "    sns.histplot(df[col], kde=True)\n",
    "    plt.title(f'Distribution of {col}')\n",
    "plt.tight_layout()\n",
    "plt.show()"
   ]
  },
  {
   "cell_type": "markdown",
   "metadata": {},
   "source": [
    "1. Distribution of Pregnancies:\n",
    "- Bersifat right-skewed (miring kanan), artinya mayoritas data memiliki jumlah kehamilan yang sedikit, dan semakin banyak jumlah kehamilan, frekuensinya semakin menurun.\n",
    "- Kemungkinan terdapat outlier pada data dengan jumlah kehamilan yang sangat tinggi (di atas 10).\n",
    "\n",
    "2. Distribution of Glucose:\n",
    "- Menyerupai distribusi normal, dengan sedikit kecenderungan terpusat di sekitar nilai 100-125.\n",
    "- Terdapat beberapa data dengan kadar glukosa yang sangat tinggi (di atas 180) yang bisa jadi merupakan outlier.\n",
    "\n",
    "3. Distribution of BloodPressure:\n",
    "- Menyerupai distribusi normal, dengan puncak di sekitar nilai 70-80.\n",
    "- Terdapat beberapa data dengan tekanan darah yang sangat rendah (di bawah 40) atau sangat tinggi (di atas 100) yang perlu diperhatikan.\n",
    "\n",
    "4. Distribution of SkinThickness:\n",
    "- Sebagian besar data terpusat di sekitar nilai 20-40.\n",
    "- Terdapat data dengan ketebalan kulit yang sangat tipis (mendekati 0) dan sangat tebal (di atas 60) yang bisa jadi merupakan outlier atau kesalahan pengukuran.\n",
    "\n",
    "5. Distribution of Insulin:\n",
    "- Bersifat right-skewed (miring kanan) dengan mayoritas data memiliki kadar insulin yang rendah.\n",
    "- Terdapat beberapa data dengan kadar insulin yang sangat tinggi (di atas 600) yang kemungkinan merupakan outlier.\n",
    "\n",
    "6. Distribution of BMI:\n",
    "- Menyerupai distribusi normal, dengan puncak di sekitar nilai 30.\n",
    "- Terdapat beberapa data dengan BMI yang sangat rendah (di bawah 20) atau sangat tinggi (di atas 50) yang perlu diperhatikan.\n",
    "\n",
    "7. Distribution of DiabetesPedigreeFunction:\n",
    "- Bersifat right-skewed (miring kanan), dengan mayoritas data memiliki nilai yang rendah.\n",
    "- Terdapat beberapa data dengan nilai yang sangat tinggi (di atas 1.5) yang bisa jadi merupakan outlier.\n",
    "\n",
    "8. Distribution of Age:\n",
    "- Data terdistribusi secara merata di berbagai kelompok usia, dengan sedikit kecenderungan peningkatan frekuensi pada usia 20-30 tahun.\n",
    "- Terdapat beberapa data dengan usia yang sangat muda (di bawah 20 tahun) yang perlu diperhatikan."
   ]
  },
  {
   "cell_type": "code",
   "execution_count": 11,
   "metadata": {},
   "outputs": [
    {
     "name": "stdout",
     "output_type": "stream",
     "text": [
      "Total outliers in Pregnancies: 4 --> [15, 17, 14, 14]\n",
      "Total outliers in Glucose: 5 --> [0, 0, 0, 0, 0]\n",
      "Total outliers in BloodPressure: 45 --> [0, 0, 30, 110, 0, 0, 0, 0, 108, 122, 30, 0, 110, 0, 0, 0, 0, 0, 0, 0, 0, 0, 0, 108, 0, 0, 0, 0, 0, 0, 0, 0, 0, 0, 110, 0, 24, 0, 0, 0, 0, 114, 0, 0, 0]\n",
      "Total outliers in SkinThickness: 1 --> [99]\n",
      "Total outliers in Insulin: 34 --> [543, 846, 342, 495, 325, 485, 495, 478, 744, 370, 680, 402, 375, 545, 360, 325, 465, 325, 415, 579, 474, 328, 480, 326, 330, 600, 321, 440, 540, 480, 335, 387, 392, 510]\n",
      "Total outliers in BMI: 19 --> [0.0, 0.0, 0.0, 0.0, 53.2, 55.0, 0.0, 67.1, 52.3, 52.3, 52.9, 0.0, 0.0, 59.4, 0.0, 0.0, 57.3, 0.0, 0.0]\n",
      "Total outliers in DiabetesPedigreeFunction: 29 --> [2.288, 1.441, 1.39, 1.893, 1.781, 1.222, 1.4, 1.321, 1.224, 2.329, 1.318, 1.213, 1.353, 1.224, 1.391, 1.476, 2.137, 1.731, 1.268, 1.6, 2.42, 1.251, 1.699, 1.258, 1.282, 1.698, 1.461, 1.292, 1.394]\n",
      "Total outliers in Age: 9 --> [69, 67, 72, 81, 67, 67, 70, 68, 69]\n",
      "Total outliers in Outcome: 0\n"
     ]
    }
   ],
   "source": [
    "# Calculate quartiles and IQR for each column\n",
    "quartile_data = {}\n",
    "for col in df.columns:\n",
    "    q1 = df[col].quantile(0.25)\n",
    "    q3 = df[col].quantile(0.75)\n",
    "    iqr = q3 - q1\n",
    "    lower_bound = q1 - 1.5 * iqr\n",
    "    upper_bound = q3 + 1.5 * iqr\n",
    "    quartile_data[col] = {'q1': q1, 'q3': q3, 'iqr': iqr,\n",
    "                          'lower_bound': lower_bound, 'upper_bound': upper_bound}\n",
    "\n",
    "# Convert the dictionary to DataFrame for better readability\n",
    "quartile_df = pd.DataFrame(quartile_data).transpose()\n",
    "\n",
    "# Find outliers in each column\n",
    "outliers = {}\n",
    "for col in df.columns:\n",
    "    outliers[col] = []\n",
    "    for value in df[col]:\n",
    "        if value < quartile_data[col]['lower_bound'] or value > quartile_data[col]['upper_bound']:\n",
    "            outliers[col].append(value)\n",
    "\n",
    "# Combine total outliers and outlier data for each column\n",
    "for col in df.columns:\n",
    "    count = len(outliers[col])\n",
    "    if count > 0:\n",
    "        print(f\"Total outliers in {col}: {count} --> {outliers[col]}\")\n",
    "    else:\n",
    "        print(f\"Total outliers in {col}: {count}\")"
   ]
  },
  {
   "cell_type": "code",
   "execution_count": 12,
   "metadata": {},
   "outputs": [
    {
     "name": "stdout",
     "output_type": "stream",
     "text": [
      "Data size before removing outliers: (768, 9)\n",
      "Data size after removing outliers: (639, 9)\n"
     ]
    }
   ],
   "source": [
    "# Remove rows with outliers\n",
    "original_size = df.shape\n",
    "for col in df.columns:\n",
    "    df = df[(df[col] >= quartile_data[col]['lower_bound']) & (df[col] <= quartile_data[col]['upper_bound'])]\n",
    "\n",
    "# Print size before and after removing outliers\n",
    "print(f\"Data size before removing outliers: {original_size}\")\n",
    "print(f\"Data size after removing outliers: {df.shape}\")"
   ]
  },
  {
   "cell_type": "markdown",
   "metadata": {},
   "source": [
    "## Preprocessing"
   ]
  },
  {
   "cell_type": "code",
   "execution_count": 13,
   "metadata": {},
   "outputs": [
    {
     "name": "stdout",
     "output_type": "stream",
     "text": [
      "<class 'pandas.core.frame.DataFrame'>\n",
      "Index: 639 entries, 0 to 767\n",
      "Data columns (total 9 columns):\n",
      " #   Column                    Non-Null Count  Dtype  \n",
      "---  ------                    --------------  -----  \n",
      " 0   Pregnancies               639 non-null    int64  \n",
      " 1   Glucose                   639 non-null    int64  \n",
      " 2   BloodPressure             639 non-null    int64  \n",
      " 3   SkinThickness             639 non-null    int64  \n",
      " 4   Insulin                   639 non-null    int64  \n",
      " 5   BMI                       639 non-null    float64\n",
      " 6   DiabetesPedigreeFunction  639 non-null    float64\n",
      " 7   Age                       639 non-null    int64  \n",
      " 8   Outcome                   639 non-null    int64  \n",
      "dtypes: float64(2), int64(7)\n",
      "memory usage: 49.9 KB\n"
     ]
    }
   ],
   "source": [
    "df.info()"
   ]
  },
  {
   "cell_type": "code",
   "execution_count": 14,
   "metadata": {},
   "outputs": [],
   "source": [
    "x = df.drop(columns='Outcome')\n",
    "y = df['Outcome']"
   ]
  },
  {
   "cell_type": "code",
   "execution_count": 15,
   "metadata": {},
   "outputs": [
    {
     "data": {
      "text/html": [
       "<div>\n",
       "<style scoped>\n",
       "    .dataframe tbody tr th:only-of-type {\n",
       "        vertical-align: middle;\n",
       "    }\n",
       "\n",
       "    .dataframe tbody tr th {\n",
       "        vertical-align: top;\n",
       "    }\n",
       "\n",
       "    .dataframe thead th {\n",
       "        text-align: right;\n",
       "    }\n",
       "</style>\n",
       "<table border=\"1\" class=\"dataframe\">\n",
       "  <thead>\n",
       "    <tr style=\"text-align: right;\">\n",
       "      <th></th>\n",
       "      <th>Pregnancies</th>\n",
       "      <th>Glucose</th>\n",
       "      <th>BloodPressure</th>\n",
       "      <th>SkinThickness</th>\n",
       "      <th>Insulin</th>\n",
       "      <th>BMI</th>\n",
       "      <th>DiabetesPedigreeFunction</th>\n",
       "      <th>Age</th>\n",
       "    </tr>\n",
       "  </thead>\n",
       "  <tbody>\n",
       "    <tr>\n",
       "      <th>0</th>\n",
       "      <td>6</td>\n",
       "      <td>148</td>\n",
       "      <td>72</td>\n",
       "      <td>35</td>\n",
       "      <td>0</td>\n",
       "      <td>33.6</td>\n",
       "      <td>0.627</td>\n",
       "      <td>50</td>\n",
       "    </tr>\n",
       "    <tr>\n",
       "      <th>1</th>\n",
       "      <td>1</td>\n",
       "      <td>85</td>\n",
       "      <td>66</td>\n",
       "      <td>29</td>\n",
       "      <td>0</td>\n",
       "      <td>26.6</td>\n",
       "      <td>0.351</td>\n",
       "      <td>31</td>\n",
       "    </tr>\n",
       "    <tr>\n",
       "      <th>2</th>\n",
       "      <td>8</td>\n",
       "      <td>183</td>\n",
       "      <td>64</td>\n",
       "      <td>0</td>\n",
       "      <td>0</td>\n",
       "      <td>23.3</td>\n",
       "      <td>0.672</td>\n",
       "      <td>32</td>\n",
       "    </tr>\n",
       "    <tr>\n",
       "      <th>3</th>\n",
       "      <td>1</td>\n",
       "      <td>89</td>\n",
       "      <td>66</td>\n",
       "      <td>23</td>\n",
       "      <td>94</td>\n",
       "      <td>28.1</td>\n",
       "      <td>0.167</td>\n",
       "      <td>21</td>\n",
       "    </tr>\n",
       "    <tr>\n",
       "      <th>5</th>\n",
       "      <td>5</td>\n",
       "      <td>116</td>\n",
       "      <td>74</td>\n",
       "      <td>0</td>\n",
       "      <td>0</td>\n",
       "      <td>25.6</td>\n",
       "      <td>0.201</td>\n",
       "      <td>30</td>\n",
       "    </tr>\n",
       "    <tr>\n",
       "      <th>...</th>\n",
       "      <td>...</td>\n",
       "      <td>...</td>\n",
       "      <td>...</td>\n",
       "      <td>...</td>\n",
       "      <td>...</td>\n",
       "      <td>...</td>\n",
       "      <td>...</td>\n",
       "      <td>...</td>\n",
       "    </tr>\n",
       "    <tr>\n",
       "      <th>763</th>\n",
       "      <td>10</td>\n",
       "      <td>101</td>\n",
       "      <td>76</td>\n",
       "      <td>48</td>\n",
       "      <td>180</td>\n",
       "      <td>32.9</td>\n",
       "      <td>0.171</td>\n",
       "      <td>63</td>\n",
       "    </tr>\n",
       "    <tr>\n",
       "      <th>764</th>\n",
       "      <td>2</td>\n",
       "      <td>122</td>\n",
       "      <td>70</td>\n",
       "      <td>27</td>\n",
       "      <td>0</td>\n",
       "      <td>36.8</td>\n",
       "      <td>0.340</td>\n",
       "      <td>27</td>\n",
       "    </tr>\n",
       "    <tr>\n",
       "      <th>765</th>\n",
       "      <td>5</td>\n",
       "      <td>121</td>\n",
       "      <td>72</td>\n",
       "      <td>23</td>\n",
       "      <td>112</td>\n",
       "      <td>26.2</td>\n",
       "      <td>0.245</td>\n",
       "      <td>30</td>\n",
       "    </tr>\n",
       "    <tr>\n",
       "      <th>766</th>\n",
       "      <td>1</td>\n",
       "      <td>126</td>\n",
       "      <td>60</td>\n",
       "      <td>0</td>\n",
       "      <td>0</td>\n",
       "      <td>30.1</td>\n",
       "      <td>0.349</td>\n",
       "      <td>47</td>\n",
       "    </tr>\n",
       "    <tr>\n",
       "      <th>767</th>\n",
       "      <td>1</td>\n",
       "      <td>93</td>\n",
       "      <td>70</td>\n",
       "      <td>31</td>\n",
       "      <td>0</td>\n",
       "      <td>30.4</td>\n",
       "      <td>0.315</td>\n",
       "      <td>23</td>\n",
       "    </tr>\n",
       "  </tbody>\n",
       "</table>\n",
       "<p>639 rows × 8 columns</p>\n",
       "</div>"
      ],
      "text/plain": [
       "     Pregnancies  Glucose  BloodPressure  SkinThickness  Insulin   BMI  \\\n",
       "0              6      148             72             35        0  33.6   \n",
       "1              1       85             66             29        0  26.6   \n",
       "2              8      183             64              0        0  23.3   \n",
       "3              1       89             66             23       94  28.1   \n",
       "5              5      116             74              0        0  25.6   \n",
       "..           ...      ...            ...            ...      ...   ...   \n",
       "763           10      101             76             48      180  32.9   \n",
       "764            2      122             70             27        0  36.8   \n",
       "765            5      121             72             23      112  26.2   \n",
       "766            1      126             60              0        0  30.1   \n",
       "767            1       93             70             31        0  30.4   \n",
       "\n",
       "     DiabetesPedigreeFunction  Age  \n",
       "0                       0.627   50  \n",
       "1                       0.351   31  \n",
       "2                       0.672   32  \n",
       "3                       0.167   21  \n",
       "5                       0.201   30  \n",
       "..                        ...  ...  \n",
       "763                     0.171   63  \n",
       "764                     0.340   27  \n",
       "765                     0.245   30  \n",
       "766                     0.349   47  \n",
       "767                     0.315   23  \n",
       "\n",
       "[639 rows x 8 columns]"
      ]
     },
     "execution_count": 15,
     "metadata": {},
     "output_type": "execute_result"
    }
   ],
   "source": [
    "x"
   ]
  },
  {
   "cell_type": "code",
   "execution_count": 16,
   "metadata": {},
   "outputs": [],
   "source": [
    "# for imbalance data\n",
    "ros = RandomOverSampler(random_state=40)\n",
    "x_ros, y_ros = ros.fit_resample(x, y)\n",
    "\n",
    "# SMOTE + ENN\n",
    "smote_enn = SMOTEENN(random_state=42)\n",
    "X_resampled_enn, y_resampled_enn = smote_enn.fit_resample(x_ros, y_ros)"
   ]
  },
  {
   "cell_type": "code",
   "execution_count": 18,
   "metadata": {},
   "outputs": [
    {
     "data": {
      "text/plain": [
       "Index(['Pregnancies', 'Glucose', 'BloodPressure', 'SkinThickness', 'Insulin',\n",
       "       'BMI', 'DiabetesPedigreeFunction', 'Age'],\n",
       "      dtype='object')"
      ]
     },
     "execution_count": 18,
     "metadata": {},
     "output_type": "execute_result"
    }
   ],
   "source": [
    "num_cols = X_resampled_enn.select_dtypes(exclude='object').columns\n",
    "num_cols"
   ]
  },
  {
   "cell_type": "code",
   "execution_count": 19,
   "metadata": {},
   "outputs": [],
   "source": [
    "num_pipeline = Pipeline(\n",
    "    steps=[\n",
    "        (\"imputer\", SimpleImputer()),\n",
    "        (\"scaler\", StandardScaler())\n",
    "    ]\n",
    ")"
   ]
  },
  {
   "cell_type": "code",
   "execution_count": 20,
   "metadata": {},
   "outputs": [],
   "source": [
    "preprocessor = ColumnTransformer(\n",
    "    [\n",
    "        (\"num_pipeline\", num_pipeline, num_cols)\n",
    "    ]\n",
    ")"
   ]
  },
  {
   "cell_type": "code",
   "execution_count": 21,
   "metadata": {},
   "outputs": [],
   "source": [
    "X_train, X_test, y_train, y_test = train_test_split(X_resampled_enn, y_resampled_enn, test_size=0.2, random_state=42)"
   ]
  },
  {
   "cell_type": "code",
   "execution_count": 22,
   "metadata": {},
   "outputs": [
    {
     "data": {
      "text/plain": [
       "array([[ 0.56666417,  0.59477289,  0.6163235 , ..., -0.46963327,\n",
       "        -1.13428202,  1.52561854],\n",
       "       [ 0.85813188,  0.09744109, -0.43187168, ...,  0.86446629,\n",
       "        -0.06417723,  0.87791004],\n",
       "       [-0.8906744 , -1.14588841, -0.78127007, ...,  0.62729304,\n",
       "         0.06702336, -0.51003676],\n",
       "       ...,\n",
       "       [-0.30773897,  0.37373653, -1.65476606, ..., -1.04774308,\n",
       "        -0.21587791, -1.06521548],\n",
       "       [-1.18214211,  2.00387965, -0.60657088, ...,  1.27951949,\n",
       "         0.19412393, -0.51003676],\n",
       "       [-0.30773897, -0.73144525, -0.95596927, ..., -1.61102956,\n",
       "        -0.72018016, -0.69509633]])"
      ]
     },
     "execution_count": 22,
     "metadata": {},
     "output_type": "execute_result"
    }
   ],
   "source": [
    "preprocessor.fit_transform(X_train)"
   ]
  },
  {
   "cell_type": "code",
   "execution_count": 23,
   "metadata": {},
   "outputs": [
    {
     "data": {
      "text/plain": [
       "array([[-0.30773897,  1.0368456 , -0.25717248, -0.18030911,  0.34818891,\n",
       "        -0.15834337, -0.76528037, -0.51003676],\n",
       "       [-1.18214211,  0.15270018,  1.31512029, -1.36890675, -0.88909155,\n",
       "        -0.15834337,  1.18222835, -0.13991761],\n",
       "       [-0.30773897,  1.86573193, -0.25717248,  0.67812252, -0.88909155,\n",
       "         0.33082647, -0.87598086, -0.78762612],\n",
       "       [ 0.85813188, -0.86959297, -0.78127007,  0.28192331,  0.0418147 ,\n",
       "         0.09365321,  1.16172826,  0.69285046],\n",
       "       [-1.18214211, -0.59329752, -0.78127007,  1.07432174, -0.13493965,\n",
       "         0.1381232 ,  0.22692407, -1.06521548],\n",
       "       [-0.01627126, -0.23411345, -0.78127007,  0.41398971,  0.52494326,\n",
       "         0.07882988, -0.92108106, -0.88015591],\n",
       "       [-0.8906744 , -0.9524816 , -1.65476606,  0.28192331,  0.28927079,\n",
       "        -1.10703639, -0.90468099, -0.97268569],\n",
       "       [-1.18214211, -0.56566798,  0.9657219 , -1.36890675, -0.88909155,\n",
       "        -0.70680652,  1.17402831,  2.63597598],\n",
       "       [ 1.73253502, -0.39989071, -0.25717248,  0.41398971, -0.88909155,\n",
       "        -0.76609984, -1.2859827 ,  0.60032068],\n",
       "       [-1.18214211, -0.34463162,  0.26692511, -1.36890675, -0.88909155,\n",
       "         0.09365321, -0.72428018, -0.97268569],\n",
       "       [ 1.1495996 ,  1.58943649, -0.78127007, -1.36890675, -0.88909155,\n",
       "        -1.38867963,  0.89112705, -0.13991761],\n",
       "       [ 1.1495996 ,  0.20795927, -0.08247329, -1.36890675, -0.88909155,\n",
       "         0.0343599 , -0.75708033,  0.50779089],\n",
       "       [-0.30773897,  1.86573193, -0.25717248,  0.67812252, -0.88909155,\n",
       "         0.33082647, -0.87598086, -0.78762612],\n",
       "       [ 0.27519646, -0.48277935, -0.08247329,  1.47052095, -0.00531979,\n",
       "         0.50870641, -0.78578046, -0.04738783],\n",
       "       [-0.8906744 , -0.67618616, -2.00416445, -0.37840872, -0.4648811 ,\n",
       "        -1.25526967,  0.29252437, -0.69509633],\n",
       "       [ 1.44106731,  0.5395138 ,  0.6163235 ,  1.66862056,  0.6427795 ,\n",
       "         0.77552632,  0.7476264 ,  0.60032068],\n",
       "       [ 0.27519646, -0.81433388,  0.09222591, -0.18030911, -0.09958878,\n",
       "         0.1381232 ,  2.22363301,  0.87791004],\n",
       "       [-0.59920668, -0.92485206, -0.95596927,  0.48002292, -0.88909155,\n",
       "        -0.15834337, -1.3310829 , -0.88015591],\n",
       "       [-0.8906744 , -0.89722251, -1.48006686, -0.64254153, -0.88909155,\n",
       "        -1.50726626, -0.15437763, -1.06521548],\n",
       "       [-0.59920668, -0.48277935, -0.78127007, -1.36890675, -0.88909155,\n",
       "        -0.27693   , -1.21628238, -1.15774527],\n",
       "       [-1.18214211,  0.01455245,  1.14042109,  0.41398971,  0.52494326,\n",
       "        -0.78092316,  0.24742417, -1.15774527],\n",
       "       [-0.8906744 , -0.37226117,  0.6163235 ,  1.60258736,  0.66634674,\n",
       "         0.31600314, -0.9743813 , -0.88015591],\n",
       "       [ 0.85813188,  1.45128876,  0.9657219 , -1.36890675, -0.88909155,\n",
       "         1.07199289, -0.50697921,  0.69285046],\n",
       "       [-0.59920668, -0.67618616, -1.30536766,  0.94225533,  0.17143456,\n",
       "        -1.61102956, -1.22858244, -1.06521548],\n",
       "       [-0.8906744 , -1.17351796, -0.43187168, -1.36890675, -0.88909155,\n",
       "        -2.14466938,  0.69432617, -0.60256655],\n",
       "       [-0.30773897,  1.23025241, -0.78127007,  1.07432174,  1.76222372,\n",
       "         0.27153315, -0.40447875, -0.32497719],\n",
       "       [-0.59920668, -0.31700208, -0.43187168,  0.0838237 , -0.88909155,\n",
       "        -0.58821989, -1.48688359, -0.78762612],\n",
       "       [-0.30773897,  0.09744109, -0.78127007,  0.54605612,  0.46602515,\n",
       "        -0.92915645, -0.96618126, -0.51003676],\n",
       "       [ 0.56666417,  1.7828433 ,  1.66451868, -1.36890675, -0.88909155,\n",
       "         0.41976644, -0.72428018,  3.00609513],\n",
       "       [ 1.1495996 ,  1.14736378,  2.88741306,  1.66862056,  1.83292546,\n",
       "         0.73105634, -1.18758226,  0.87791004],\n",
       "       [-0.8906744 , -0.09596572,  1.48981949,  1.99878657,  1.7033056 ,\n",
       "         2.52467908, -0.53157932, -0.2324474 ],\n",
       "       [ 1.73253502,  0.09744109, -0.95596927,  1.00828854, -0.88909155,\n",
       "         1.26469616, -0.05597719,  0.4152611 ],\n",
       "       [-1.18214211, -0.04070663, -1.48006686, -0.51047512,  0.34818891,\n",
       "        -1.61102956, -0.01087699, -1.15774527],\n",
       "       [-0.8906744 , -0.62092707,  0.6163235 , -0.64254153,  0.07716557,\n",
       "        -1.96678944,  0.14902373, -1.06521548],\n",
       "       [-0.01627126, -0.9524816 , -0.25717248,  0.74415573,  0.14786731,\n",
       "         0.06400656, -0.0354771 , -1.06521548],\n",
       "       [ 2.60693816,  0.73292061,  1.48981949,  0.81018893, -0.54736647,\n",
       "        -0.86986314,  1.13302813,  0.87791004],\n",
       "       [-1.18214211, -0.12359527, -0.60657088,  0.61208932,  1.05520632,\n",
       "         0.2418865 , -1.03178156, -0.04738783],\n",
       "       [-0.8906744 , -0.4551498 , -1.30536766, -0.18030911,  0.47780877,\n",
       "        -0.61786655, -0.96618126, -1.06521548],\n",
       "       [-0.8906744 , -0.39989071,  1.14042109, -0.11427591, -0.88909155,\n",
       "        -0.3806933 , -1.27778266, -0.97268569],\n",
       "       [-1.18214211, -0.9524816 ,  0.6163235 , -1.36890675, -0.88909155,\n",
       "        -0.03975674,  0.60002574, -0.60256655],\n",
       "       [-0.30773897,  1.25788195, -0.08247329,  0.81018893,  0.70169761,\n",
       "         0.09365321, -1.04818163, -0.88015591],\n",
       "       [-0.8906744 , -1.28403613,  0.6163235 ,  0.28192331, -0.45309748,\n",
       "        -1.07738973,  0.52622541, -1.06521548],\n",
       "       [ 1.1495996 , -0.15122481,  0.4416243 , -1.36890675, -0.88909155,\n",
       "        -1.13668305, -0.18717778,  2.82103555],\n",
       "       [-1.18214211, -0.17885436, -0.78127007, -0.18030911,  0.19500181,\n",
       "         0.33082647,  1.10842802, -0.97268569],\n",
       "       [ 0.27519646, -0.28937253,  0.26692511, -1.36890675, -0.88909155,\n",
       "        -0.21763668, -0.45777899,  0.97043982],\n",
       "       [ 1.1495996 , -0.48277935, -0.25717248, -1.36890675, -0.88909155,\n",
       "        -0.32139998,  2.05143224, -0.04738783],\n",
       "       [-0.01627126, -0.84196342, -0.25717248,  0.74415573, -0.88909155,\n",
       "        -0.08422673,  0.64512594, -0.88015591],\n",
       "       [ 0.56666417,  1.89336148,  0.4416243 , -1.36890675, -0.88909155,\n",
       "        -1.35903297, -1.33518292,  2.35838662],\n",
       "       [-0.30773897,  1.34077059, -1.30536766,  0.0838237 ,  1.3969314 ,\n",
       "         0.0343599 ,  0.5672256 ,  0.23020153],\n",
       "       [ 0.85813188,  1.45128876,  0.9657219 , -1.36890675, -0.88909155,\n",
       "         1.07199289, -0.50697921,  0.69285046],\n",
       "       [-1.18214211,  0.31847744, -0.43187168, -0.44444192,  0.85488472,\n",
       "        -1.1663297 , -1.27778266, -1.15774527],\n",
       "       [ 0.85813188,  1.94862056,  1.48981949, -1.36890675, -0.88909155,\n",
       "         1.05716956, -0.01497701,  0.69285046],\n",
       "       [-0.30773897,  1.34077059, -1.30536766,  0.0838237 ,  1.3969314 ,\n",
       "         0.0343599 ,  0.5672256 ,  0.23020153],\n",
       "       [ 0.56666417, -0.62092707, -0.08247329,  0.74415573,  1.3497969 ,\n",
       "         0.74587966, -0.53567934,  1.98826747],\n",
       "       [-0.8906744 ,  0.51188425,  0.7910227 ,  1.66862056,  1.23196067,\n",
       "         1.99103925, -0.49057914,  1.1554994 ],\n",
       "       [-1.18214211, -0.59329752,  0.26692511, -1.36890675, -0.88909155,\n",
       "        -2.11502272,  0.52212539, -0.60256655],\n",
       "       [-0.01627126, -0.42752026,  1.66451868, -1.36890675, -0.88909155,\n",
       "         0.73105634, -1.08098178, -0.32497719],\n",
       "       [ 1.1495996 , -0.56566798,  2.36331547,  1.00828854, -0.88909155,\n",
       "         1.57598606, -0.8841809 ,  1.06296961],\n",
       "       [-1.18214211, -0.06833618, -0.08247329, -1.36890675, -0.88909155,\n",
       "         0.53835307, -0.80628055,  1.71067812],\n",
       "       [-0.8906744 , -1.50507249, -0.95596927, -1.36890675, -0.88909155,\n",
       "        -1.61102956, -0.15847765, -0.69509633],\n",
       "       [ 1.44106731, -0.09596572, -1.48006686, -1.36890675, -0.88909155,\n",
       "         0.09365321,  2.70333515, -0.04738783],\n",
       "       [-1.18214211, -0.86959297, -0.25717248,  0.41398971,  0.46602515,\n",
       "         1.60563271, -0.44137892, -1.15774527],\n",
       "       [-0.8906744 , -1.03537023, -0.95596927,  0.21589011, -0.37061212,\n",
       "        -0.41033995, -0.13387754, -0.97268569],\n",
       "       [ 0.27519646, -0.31700208,  0.09222591, -1.36890675, -0.88909155,\n",
       "        -1.15150638,  1.18632837,  2.17332705],\n",
       "       [ 0.85813188,  1.5341774 ,  0.9657219 ,  0.0177905 ,  1.37336415,\n",
       "         0.47905975,  0.53852547,  1.61814833],\n",
       "       [ 2.02400274,  0.34610699,  0.09222591,  0.34795651,  0.80775022,\n",
       "         0.50870641,  0.41962494,  1.52561854],\n",
       "       [-0.30773897, -1.17351796, -1.30536766,  0.67812252, -0.67698633,\n",
       "         0.2418865 , -0.48647912, -0.78762612],\n",
       "       [-0.8906744 ,  0.20795927,  2.53801467,  0.48002292,  0.76061573,\n",
       "         0.01953657, -0.90468099,  1.06296961],\n",
       "       [-0.8906744 , -0.12359527,  0.4416243 ,  1.20638814, -0.01710341,\n",
       "         0.93858293, -0.79398049, -0.51003676],\n",
       "       [-0.8906744 , -1.11825887, -0.60657088,  0.54605612, -0.88909155,\n",
       "        -0.89950979, -0.42497884, -0.2324474 ],\n",
       "       [ 0.27519646, -1.03537023, -0.60657088,  0.0177905 , -0.61806821,\n",
       "        -1.22562302, -0.46187901, -0.32497719],\n",
       "       [-0.8906744 , -0.28937253, -0.25717248,  0.61208932,  0.2421363 ,\n",
       "         0.28635648,  0.30482442, -0.13991761],\n",
       "       [-0.30773897, -0.34463162, -2.52826204, -0.51047512, -0.88909155,\n",
       "        -1.52208959, -1.29008271, -1.06521548],\n",
       "       [-0.30773897, -1.78136793,  0.7910227 ,  0.48002292, -0.88909155,\n",
       "         0.25670983, -0.86778082,  1.1554994 ],\n",
       "       [-0.8906744 , -0.84196342,  0.7910227 ,  0.28192331,  1.23196067,\n",
       "         0.3456498 , -0.90878101,  0.87791004],\n",
       "       [-0.8906744 ,  0.37373653, -2.35356285, -0.11427591,  0.0889492 ,\n",
       "        -0.58821989,  0.81732672, -1.06521548],\n",
       "       [-1.18214211, -0.64855661, -1.82946525, -1.36890675, -0.88909155,\n",
       "        -1.12185972, -1.54428385, -1.15774527],\n",
       "       [-0.8906744 ,  0.20795927,  2.53801467,  0.48002292,  0.76061573,\n",
       "         0.01953657, -0.90468099,  1.06296961],\n",
       "       [ 1.44106731,  0.73292061,  0.4416243 ,  0.87622213,  1.12590806,\n",
       "         0.22706317,  1.7972311 , -0.04738783],\n",
       "       [-0.8906744 , -1.28403613,  0.17957551,  0.61208932, -0.88909155,\n",
       "        -0.09905006, -0.24047802, -1.06521548],\n",
       "       [ 0.56666417, -0.73144525, -1.13066847, -0.11427591, -0.25277588,\n",
       "        -0.85503981,  0.17362384, -0.13991761],\n",
       "       [-0.8906744 , -0.89722251, -0.25717248,  0.67812252, -0.88909155,\n",
       "        -0.33622331, -0.5725795 , -0.97268569],\n",
       "       [-0.8906744 ,  0.59477289,  1.83921788,  1.33845455, -0.88909155,\n",
       "         2.46538576, -0.39627871, -0.60256655],\n",
       "       [-0.8906744 , -0.7038157 , -0.08247329, -0.57650832, -0.06423791,\n",
       "        -1.09221306,  0.83372679, -0.51003676],\n",
       "       [-0.59920668, -0.81433388, -0.43187168, -0.51047512, -0.311694  ,\n",
       "        -1.71479286,  0.78862659, -0.69509633],\n",
       "       [-0.30773897,  1.86573193, -0.25717248,  0.67812252, -0.88909155,\n",
       "         0.33082647, -0.87598086, -0.78762612],\n",
       "       [-0.8906744 , -0.4551498 , -1.48006686,  0.0177905 ,  0.70169761,\n",
       "        -1.10703639,  1.55123   , -0.97268569],\n",
       "       [-0.30773897,  1.31314104,  0.4416243 ,  1.20638814,  1.29087878,\n",
       "         0.16776986,  2.11293251, -0.2324474 ],\n",
       "       [ 2.60693816,  0.73292061,  1.48981949,  0.81018893, -0.54736647,\n",
       "        -0.86986314,  1.13302813,  0.87791004],\n",
       "       [-0.8906744 , -0.09596572, -0.78127007,  0.74415573,  0.94915371,\n",
       "         0.36047313,  0.97312741, -0.32497719],\n",
       "       [-0.30773897, -0.73144525,  0.6163235 , -0.64254153, -0.13493965,\n",
       "        -1.98161277, -0.69968007, -0.32497719],\n",
       "       [-1.18214211, -0.12359527, -0.60657088,  0.61208932,  1.05520632,\n",
       "         0.2418865 , -1.03178156, -0.04738783],\n",
       "       [-1.18214211, -0.51040889, -1.13066847,  0.28192331, -0.88909155,\n",
       "        -0.92915645, -1.31878284, -0.97268569],\n",
       "       [-0.30773897,  1.31314104,  0.4416243 ,  1.20638814,  1.29087878,\n",
       "         0.16776986,  2.11293251, -0.2324474 ],\n",
       "       [-0.59920668, -1.17351796, -0.69392047,  0.48002292, -0.1113724 ,\n",
       "         0.61246971,  0.71482626, -0.88015591],\n",
       "       [-0.8906744 , -0.39989071,  1.83921788, -1.36890675, -0.88909155,\n",
       "         0.01953657, -0.77758042,  1.06296961],\n",
       "       [-0.30773897, -1.42218386, -0.43187168,  0.48002292, -0.35882849,\n",
       "        -0.43998661, -0.66277991, -0.97268569],\n",
       "       [ 0.85813188,  0.73292061,  1.31512029,  1.53655416, -0.88909155,\n",
       "         2.56914906, -0.4823791 ,  0.23020153],\n",
       "       [ 2.31547045, -0.92485206, -0.95596927, -0.90667434,  2.15108329,\n",
       "        -0.75127651,  1.93253171,  0.97043982],\n",
       "       [-0.8906744 , -1.09062932, -0.60657088,  2.06481978, -0.12315603,\n",
       "         1.27951949,  1.89563154, -0.41750697],\n",
       "       [-0.59920668,  0.81580924,  0.09222591, -0.24634231,  0.2421363 ,\n",
       "        -0.89950979, -0.08877734, -0.60256655],\n",
       "       [ 1.1495996 , -0.7038157 ,  0.09222591,  1.27242135,  1.64438749,\n",
       "         0.99787625,  0.84602684,  0.87791004],\n",
       "       [-0.59920668, -0.56566798,  0.6163235 ,  1.60258736,  1.36158053,\n",
       "         0.15294653,  1.05102776, -0.41750697]])"
      ]
     },
     "execution_count": 23,
     "metadata": {},
     "output_type": "execute_result"
    }
   ],
   "source": [
    "preprocessor.transform(X_test)"
   ]
  },
  {
   "cell_type": "code",
   "execution_count": 24,
   "metadata": {},
   "outputs": [
    {
     "data": {
      "text/plain": [
       "array(['num_pipeline__Pregnancies', 'num_pipeline__Glucose',\n",
       "       'num_pipeline__BloodPressure', 'num_pipeline__SkinThickness',\n",
       "       'num_pipeline__Insulin', 'num_pipeline__BMI',\n",
       "       'num_pipeline__DiabetesPedigreeFunction', 'num_pipeline__Age'],\n",
       "      dtype=object)"
      ]
     },
     "execution_count": 24,
     "metadata": {},
     "output_type": "execute_result"
    }
   ],
   "source": [
    "preprocessor.get_feature_names_out()"
   ]
  },
  {
   "cell_type": "code",
   "execution_count": 25,
   "metadata": {},
   "outputs": [],
   "source": [
    "X_train=pd.DataFrame(preprocessor.fit_transform(X_train),columns=preprocessor.get_feature_names_out())\n",
    "X_test=pd.DataFrame(preprocessor.transform(X_test),columns=preprocessor.get_feature_names_out())"
   ]
  },
  {
   "cell_type": "code",
   "execution_count": 28,
   "metadata": {},
   "outputs": [],
   "source": [
    "acc_t=[] # Storing accuracy score for Training set\n",
    "acc=[] # Storing accuracy score for testing set\n",
    "p_t=[] # Storing precison score for Training set\n",
    "p=[] # Storing precison score for Testing set\n",
    "r_t=[] # Storing recall score for Training set\n",
    "r=[] # Storing recall score for Testing set\n",
    "f1_t=[] # Storing f1 score for Training set\n",
    "f1=[] # Storing f1 score for Testing set"
   ]
  },
  {
   "cell_type": "markdown",
   "metadata": {},
   "source": [
    "## Create Model"
   ]
  },
  {
   "cell_type": "markdown",
   "metadata": {},
   "source": [
    "### Random Forest Model"
   ]
  },
  {
   "cell_type": "markdown",
   "metadata": {},
   "source": [
    "Kode dibawah ini digunakan untuk mencari hyperparameter optimal"
   ]
  },
  {
   "cell_type": "code",
   "execution_count": 37,
   "metadata": {},
   "outputs": [
    {
     "name": "stdout",
     "output_type": "stream",
     "text": [
      "{'bootstrap': False, 'class_weight': 'balanced_subsample', 'criterion': 'gini', 'max_depth': None, 'max_features': 'log2', 'min_samples_leaf': 2, 'min_samples_split': 2, 'n_estimators': 100}\n",
      "0.9636791066705847\n"
     ]
    }
   ],
   "source": [
    "model = RandomForestClassifier()\n",
    "# Definisikan grid hyperparameter yang lebih lengkap\n",
    "param_grid = {\n",
    "    'n_estimators': [100, 200, 300],\n",
    "    'max_depth': [None, 5, 10, 20],\n",
    "    'min_samples_split': [2, 5, 10],\n",
    "    'min_samples_leaf': [1, 2, 4],\n",
    "    'max_features': ['auto', 'sqrt', 'log2'],\n",
    "    'criterion': ['gini', 'entropy'],\n",
    "    'bootstrap': [True, False],\n",
    "    'class_weight': [None, 'balanced', 'balanced_subsample']\n",
    "}\n",
    "\n",
    "# Lakukan Grid Search\n",
    "grid_search = GridSearchCV(estimator=model, param_grid=param_grid, cv=5)\n",
    "grid_search.fit(X_train, y_train)\n",
    "\n",
    "# Tampilkan hyperparameter terbaik\n",
    "print(grid_search.best_params_)\n",
    "print(grid_search.best_score_)"
   ]
  },
  {
   "cell_type": "code",
   "execution_count": 26,
   "metadata": {},
   "outputs": [
    {
     "name": "stdout",
     "output_type": "stream",
     "text": [
      "Random Forest Accuracy: 0.970873786407767\n",
      "              precision    recall  f1-score   support\n",
      "\n",
      "           0       1.00      0.94      0.97        52\n",
      "           1       0.94      1.00      0.97        51\n",
      "\n",
      "    accuracy                           0.97       103\n",
      "   macro avg       0.97      0.97      0.97       103\n",
      "weighted avg       0.97      0.97      0.97       103\n",
      "\n"
     ]
    },
    {
     "data": {
      "image/png": "[encoded data removed]",
      "text/plain": [
       "<Figure size 1000x600 with 1 Axes>"
      ]
     },
     "metadata": {},
     "output_type": "display_data"
    }
   ],
   "source": [
    "# General function to evaluate models\n",
    "def evaluate_model(y_true, y_pred, model_name):\n",
    "    accuracy = accuracy_score(y_true, y_pred)\n",
    "    print(f\"{model_name} Accuracy: {accuracy}\")\n",
    "    print(classification_report(y_true, y_pred))\n",
    "    return accuracy\n",
    "\n",
    "# Function to plot ROC curve\n",
    "def plot_roc_curve(y_true, y_proba, model_name):\n",
    "    fpr, tpr, _ = roc_curve(y_true, y_proba)\n",
    "    auc = roc_auc_score(y_true, y_proba)\n",
    "    plt.plot(fpr, tpr, label=f'{model_name} (AUC = {auc:.2f})')\n",
    "    return auc\n",
    "\n",
    "# Create figure for ROC curves\n",
    "plt.figure(figsize=(10, 6))\n",
    "\n",
    "### Model: Random Forest\n",
    "rf_model = RandomForestClassifier(random_state=42, n_estimators=200, max_depth=20, min_samples_split=2, min_samples_leaf=1, max_features='sqrt',criterion='gini', class_weight='balanced_subsample', bootstrap=False)\n",
    "rf_model.fit(X_train, y_train)  # Random Forest does not require scaling\n",
    "y_pred_rf_test = rf_model.predict(X_test)\n",
    "y_pred_rf_train = rf_model.predict(X_train)\n",
    "y_proba_rf = rf_model.predict_proba(X_test)[:, 1]\n",
    "\n",
    "# Evaluate Random Forest\n",
    "evaluate_model(y_test, y_pred_rf_test, \"Random Forest\")\n",
    "plot_roc_curve(y_test, y_proba_rf, \"Random Forest\")\n",
    "\n",
    "# Display ROC curve\n",
    "plt.plot([0, 1], [0, 1], 'k--', lw=2)  # Baseline\n",
    "plt.title('ROC Curve')\n",
    "plt.xlabel('False Positive Rate')\n",
    "plt.ylabel('True Positive Rate')\n",
    "plt.legend(loc='lower right')\n",
    "plt.show()"
   ]
  },
  {
   "cell_type": "code",
   "execution_count": 29,
   "metadata": {},
   "outputs": [],
   "source": [
    "acc_t.append(accuracy_score(y_train,y_pred_rf_train))\n",
    "acc.append(accuracy_score(y_test,y_pred_rf_test))\n",
    "p_t.append(precision_score(y_train,y_pred_rf_train))\n",
    "p.append(precision_score(y_test,y_pred_rf_test))\n",
    "r_t.append(recall_score(y_train,y_pred_rf_train))\n",
    "r.append(recall_score(y_test,y_pred_rf_test))\n",
    "f1_t.append(f1_score(y_train,y_pred_rf_train))\n",
    "f1.append(f1_score(y_test,y_pred_rf_test))"
   ]
  },
  {
   "cell_type": "markdown",
   "metadata": {},
   "source": [
    "Training Metrics"
   ]
  },
  {
   "cell_type": "code",
   "execution_count": 34,
   "metadata": {},
   "outputs": [
    {
     "data": {
      "text/html": [
       "<div>\n",
       "<style scoped>\n",
       "    .dataframe tbody tr th:only-of-type {\n",
       "        vertical-align: middle;\n",
       "    }\n",
       "\n",
       "    .dataframe tbody tr th {\n",
       "        vertical-align: top;\n",
       "    }\n",
       "\n",
       "    .dataframe thead th {\n",
       "        text-align: right;\n",
       "    }\n",
       "</style>\n",
       "<table border=\"1\" class=\"dataframe\">\n",
       "  <thead>\n",
       "    <tr style=\"text-align: right;\">\n",
       "      <th></th>\n",
       "      <th>Training Accuracy</th>\n",
       "      <th>Training Precision</th>\n",
       "      <th>Training Recall</th>\n",
       "      <th>Training F1 Score</th>\n",
       "    </tr>\n",
       "  </thead>\n",
       "  <tbody>\n",
       "    <tr>\n",
       "      <th>0</th>\n",
       "      <td>1.0</td>\n",
       "      <td>1.0</td>\n",
       "      <td>1.0</td>\n",
       "      <td>1.0</td>\n",
       "    </tr>\n",
       "  </tbody>\n",
       "</table>\n",
       "</div>"
      ],
      "text/plain": [
       "   Training Accuracy  Training Precision  Training Recall  Training F1 Score\n",
       "0                1.0                 1.0              1.0                1.0"
      ]
     },
     "execution_count": 34,
     "metadata": {},
     "output_type": "execute_result"
    }
   ],
   "source": [
    "train_metrics = pd.DataFrame({'Training Accuracy':acc_t, 'Training Precision':p_t, 'Training Recall':r_t, 'Training F1 Score':f1_t})\n",
    "train_metrics"
   ]
  },
  {
   "cell_type": "code",
   "execution_count": 32,
   "metadata": {},
   "outputs": [
    {
     "name": "stdout",
     "output_type": "stream",
     "text": [
      "[[180   0]\n",
      " [  0 232]]\n"
     ]
    },
    {
     "data": {
      "image/png": "[encoded data removed]",
      "text/plain": [
       "<Figure size 640x480 with 2 Axes>"
      ]
     },
     "metadata": {},
     "output_type": "display_data"
    }
   ],
   "source": [
    "cm = confusion_matrix(y_train, y_pred_rf_train)\n",
    "print(cm)\n",
    "\n",
    "sns.heatmap(cm, annot=True, fmt='d')\n",
    "plt.xlabel('Predicted')\n",
    "plt.ylabel('True')\n",
    "plt.show()"
   ]
  },
  {
   "cell_type": "markdown",
   "metadata": {},
   "source": [
    "Testing Metrics"
   ]
  },
  {
   "cell_type": "code",
   "execution_count": 35,
   "metadata": {},
   "outputs": [
    {
     "data": {
      "text/html": [
       "<div>\n",
       "<style scoped>\n",
       "    .dataframe tbody tr th:only-of-type {\n",
       "        vertical-align: middle;\n",
       "    }\n",
       "\n",
       "    .dataframe tbody tr th {\n",
       "        vertical-align: top;\n",
       "    }\n",
       "\n",
       "    .dataframe thead th {\n",
       "        text-align: right;\n",
       "    }\n",
       "</style>\n",
       "<table border=\"1\" class=\"dataframe\">\n",
       "  <thead>\n",
       "    <tr style=\"text-align: right;\">\n",
       "      <th></th>\n",
       "      <th>Testing Accuracy</th>\n",
       "      <th>Testing Precision</th>\n",
       "      <th>Testing Recall</th>\n",
       "      <th>Testing F1 Score</th>\n",
       "    </tr>\n",
       "  </thead>\n",
       "  <tbody>\n",
       "    <tr>\n",
       "      <th>0</th>\n",
       "      <td>0.970874</td>\n",
       "      <td>0.944444</td>\n",
       "      <td>1.0</td>\n",
       "      <td>0.971429</td>\n",
       "    </tr>\n",
       "  </tbody>\n",
       "</table>\n",
       "</div>"
      ],
      "text/plain": [
       "   Testing Accuracy  Testing Precision  Testing Recall  Testing F1 Score\n",
       "0          0.970874           0.944444             1.0          0.971429"
      ]
     },
     "execution_count": 35,
     "metadata": {},
     "output_type": "execute_result"
    }
   ],
   "source": [
    "test_metrics = pd.DataFrame({'Testing Accuracy':acc, 'Testing Precision':p, 'Testing Recall':r, 'Testing F1 Score':f1})\n",
    "test_metrics"
   ]
  },
  {
   "cell_type": "code",
   "execution_count": 36,
   "metadata": {},
   "outputs": [
    {
     "name": "stdout",
     "output_type": "stream",
     "text": [
      "[[49  3]\n",
      " [ 0 51]]\n"
     ]
    },
    {
     "data": {
      "image/png": "[encoded data removed]",
      "text/plain": [
       "<Figure size 640x480 with 2 Axes>"
      ]
     },
     "metadata": {},
     "output_type": "display_data"
    }
   ],
   "source": [
    "cm = confusion_matrix(y_test, y_pred_rf_test)\n",
    "print(cm)\n",
    "\n",
    "sns.heatmap(cm, annot=True, fmt='d')\n",
    "plt.xlabel('Predicted')\n",
    "plt.ylabel('True')\n",
    "plt.show()"
   ]
  }
 ],
 "metadata": {
  "kernelspec": {
   "display_name": "Python 3",
   "language": "python",
   "name": "python3"
  },
  "language_info": {
   "codemirror_mode": {
    "name": "ipython",
    "version": 3
   },
   "file_extension": ".py",
   "mimetype": "text/x-python",
   "name": "python",
   "nbconvert_exporter": "python",
   "pygments_lexer": "ipython3",
   "version": "3.8.20"
  }
 },
 "nbformat": 4,
 "nbformat_minor": 2
}
